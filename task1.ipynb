{
 "cells": [
  {
   "cell_type": "code",
   "execution_count": 13,
   "metadata": {},
   "outputs": [],
   "source": [
    "import numpy as np\n",
    "import matplotlib.pyplot as plt\n",
    "from PIL import Image"
   ]
  },
  {
   "cell_type": "markdown",
   "metadata": {},
   "source": [
    "### creating the test image"
   ]
  },
  {
   "cell_type": "code",
   "execution_count": 12,
   "metadata": {},
   "outputs": [
    {
     "data": {
      "image/png": "[encoded data removed]",
      "text/plain": [
       "<Figure size 432x288 with 1 Axes>"
      ]
     },
     "metadata": {
      "needs_background": "light"
     },
     "output_type": "display_data"
    }
   ],
   "source": [
    "pixels00 = np.zeros((256,256))\n",
    "pixels01 = np.ones((256,256)) *50\n",
    "pixels10 = np.ones((256,256)) * 100\n",
    "pixels11 = np.ones((256,256)) * 120\n",
    "tophalf = np.concatenate((pixels00, pixels01), axis=0)\n",
    "bottomhalf = np.concatenate((pixels10, pixels11), axis=0)\n",
    "test_image = np.concatenate((tophalf, bottomhalf), axis=1)\n",
    "test_image = test_image.reshape(512,512)\n",
    "plt.imshow(test_image,cmap=\"gray\")\n",
    "plt.imsave(r\"dataset3\\testGrayImage.jpg\",test_image,cmap=\"gray\")#testGrayImage_"
   ]
  },
  {
   "cell_type": "markdown",
   "metadata": {},
   "source": [
    "### adding different noise levels"
   ]
  },
  {
   "cell_type": "code",
   "execution_count": 18,
   "metadata": {},
   "outputs": [],
   "source": [
    "def add_noise(path,save_path,noise):\n",
    "    im = Image.open(path).convert(\"L\")\n",
    "    im = im + noise\n",
    "    im=Image.fromarray(im).convert(\"L\")\n",
    "    im.save(save_path)\n",
    "    \n",
    "\n",
    "## low level noise\n",
    "gaussian_noise = np.random.normal(0, 10, size=(512, 512))\n",
    "add_noise(r\"dataset3\\testGrayImage.jpg\",r\"dataset3\\testGrayImage_low.jpg\",gaussian_noise)\n",
    "\n",
    "## mid level noise\n",
    "gaussian_noise = np.random.normal(0, 15, size=(512, 512))\n",
    "add_noise(r\"dataset3\\testGrayImage.jpg\",r\"dataset3\\testGrayImage_mid.jpg\",gaussian_noise)\n",
    "\n",
    "## high level noise\n",
    "gaussian_noise = np.random.normal(0, 20, size=(512, 512))\n",
    "add_noise(r\"dataset3\\testGrayImage.jpg\",r\"dataset3\\testGrayImage_high.jpg\",gaussian_noise)\n",
    "\n"
   ]
  }
 ],
 "metadata": {
  "interpreter": {
   "hash": "5d0bf86eb3e3037358ba9c78ec3f827f641a1e9419297de3af080288153d82b8"
  },
  "kernelspec": {
   "display_name": "Python 3.9.7 ('base')",
   "language": "python",
   "name": "python3"
  },
  "language_info": {
   "codemirror_mode": {
    "name": "ipython",
    "version": 3
   },
   "file_extension": ".py",
   "mimetype": "text/x-python",
   "name": "python",
   "nbconvert_exporter": "python",
   "pygments_lexer": "ipython3",
   "version": "3.9.7"
  },
  "orig_nbformat": 4
 },
 "nbformat": 4,
 "nbformat_minor": 2
}
